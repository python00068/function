{
  "nbformat": 4,
  "nbformat_minor": 0,
  "metadata": {
    "colab": {
      "provenance": []
    },
    "kernelspec": {
      "name": "python3",
      "display_name": "Python 3"
    },
    "language_info": {
      "name": "python"
    }
  },
  "cells": [
    {
      "cell_type": "markdown",
      "source": [],
      "metadata": {
        "id": "XhNKHNTMtcZl"
      }
    },
    {
      "cell_type": "markdown",
      "source": [
        "# Function\n",
        "\n",
        "1. what is function?\n",
        " - Function is the mode to write the coding.\n",
        "\n",
        "2. what is data analyst do?\n",
        "- Analyst is to get the data and visulazie the best into it through the data to show what are the crucial things.\n",
        "\n"
      ],
      "metadata": {
        "id": "pS100ziWteoP"
      }
    },
    {
      "cell_type": "code",
      "source": [
        "\n",
        "old_age=input(\"25\")\n",
        "new_age=int(25)+5\n",
        "print(new_age)\n",
        "\n",
        "\n",
        "\n",
        "\n"
      ],
      "metadata": {
        "colab": {
          "base_uri": "https://localhost:8080/"
        },
        "id": "1miyFzBXynjQ",
        "outputId": "bd36a6c3-fc48-4bfa-da25-b1e1141b1270"
      },
      "execution_count": 24,
      "outputs": [
        {
          "output_type": "stream",
          "name": "stdout",
          "text": [
            "252\n",
            "30\n"
          ]
        }
      ]
    }
  ]
}